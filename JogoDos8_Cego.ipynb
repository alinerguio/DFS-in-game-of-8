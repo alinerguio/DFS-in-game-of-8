{
 "cells": [
  {
   "cell_type": "markdown",
   "metadata": {
    "id": "XBTis7SKGaEr"
   },
   "source": [
    "# Jogo dos 8\n",
    "### Método de busca cega: Busca em Profundidade"
   ]
  },
  {
   "cell_type": "code",
   "execution_count": 1,
   "metadata": {
    "id": "Zxuu8M7dUUp0"
   },
   "outputs": [],
   "source": [
    "import numpy as np\n",
    "import time"
   ]
  },
  {
   "cell_type": "markdown",
   "metadata": {
    "id": "f7b2sMp3GaEx"
   },
   "source": [
    "### Metódo buscaEmProfundidade\n",
    "\n"
   ]
  },
  {
   "cell_type": "code",
   "execution_count": 36,
   "metadata": {},
   "outputs": [],
   "source": [
    "def encontraEstadoAtual(matriz):\n",
    "    # entrada: matriz \n",
    "    # saída: coordenada na matriz do item de valor 0\n",
    "    result = np.where(matriz == 0)\n",
    "    estado_atual = (result[0].item(0), result[1].item(0))\n",
    "    \n",
    "    return estado_atual"
   ]
  },
  {
   "cell_type": "code",
   "execution_count": 37,
   "metadata": {},
   "outputs": [],
   "source": [
    "def encontraSucessores(matriz, estado_atual):\n",
    "    sucessores = []\n",
    "    direcoes = [[1, 1], [1, -1], [0, 1], [0, -1]]\n",
    "    \n",
    "    for direcao in direcoes:\n",
    "        matriz_sucessora = np.copy(matriz)\n",
    "        \n",
    "        if direcao[0] == 1: # movimentações na vertical\n",
    "            estado_trocado = (estado_atual[0], estado_atual[1] + direcao[1])\n",
    "        else: # movimentações na horizontal\n",
    "            estado_trocado = (estado_atual[0] + direcao[1], estado_atual[1])\n",
    "\n",
    "        if estado_trocado[direcao[0]] >= 0 and estado_trocado[direcao[0]] < 3: \n",
    "            matriz_sucessora[estado_atual] = matriz[estado_trocado]\n",
    "            matriz_sucessora[estado_trocado] = 0\n",
    "            sucessores.append(matriz_sucessora)\n",
    "            \n",
    "    return sucessores"
   ]
  },
  {
   "cell_type": "code",
   "execution_count": 38,
   "metadata": {},
   "outputs": [],
   "source": [
    "def verificaSeFoiVisitado(matriz, estados_visitados):\n",
    "    for estado in estados_visitados:\n",
    "        if (matriz == estado).all():\n",
    "            return True\n",
    "        \n",
    "    return False"
   ]
  },
  {
   "cell_type": "code",
   "execution_count": 39,
   "metadata": {},
   "outputs": [],
   "source": [
    "def acharProximoSucessorNaoVisitado(estados_visitados, estados_com_sucessores_nv, sucessores, index_atual):\n",
    "    while len(sucessores) > index_atual + 1:\n",
    "        ja_visitado = False\n",
    "        for estado in estados_visitados:\n",
    "            if (sucessores[index_atual + 1] == estado).all(): \n",
    "                ja_visitado = True\n",
    "        \n",
    "        if ja_visitado:\n",
    "            index_atual += 1\n",
    "        else:\n",
    "            return sucessores[index_atual + 1]\n",
    "    \n",
    "    estado = estados_com_sucessores_nv[-1]\n",
    "    estado_com_sucessores_nao_visitados = estados_com_sucessores_nv.copy()\n",
    "    estado_com_sucessores_nao_visitados.pop()\n",
    "    \n",
    "    sucessores_estado = encontraSucessores(estado, encontraEstadoAtual(estado)) \n",
    "    return acharProximoSucessorNaoVisitado(estados_visitados, estado_com_sucessores_nao_visitados, sucessores_estado, 0)"
   ]
  },
  {
   "cell_type": "code",
   "execution_count": 64,
   "metadata": {},
   "outputs": [],
   "source": [
    "def buscaEmProfundidade(matriz, matriz_objetivo, estados_visitados): \n",
    "    global iteracao\n",
    "    if (matriz == matriz_objetivo).all():\n",
    "        return True, matriz\n",
    "    elif iteracao == 2000: \n",
    "        return False, matriz\n",
    "    else:\n",
    "        sucessores = encontraSucessores(matriz, encontraEstadoAtual(matriz))\n",
    "        for sucessor in sucessores: \n",
    "            if iteracao <= 2000:\n",
    "                if not verificaSeFoiVisitado(sucessor, estados_visitados):\n",
    "                    iteracao += 1\n",
    "                    return buscaEmProfundidade(sucessor, matriz_objetivo, estados_visitados + [sucessor])\n",
    "                else:\n",
    "                    try:\n",
    "                        sucessor_valido = acharProximoSucessorNaoVisitado(estados_visitados, estados_visitados, sucessores, sucessores.index(sucessor))\n",
    "                        iteracao += 1\n",
    "                        return buscaEmProfundidade(sucessor_valido, matriz_objetivo, estados_visitados + [sucessor_valido])\n",
    "                    except RecursionError:\n",
    "                        print('Não foi possível encontrar a matriz desejada após ' + str(iteracao) + ' iterações - recursão excedida.')"
   ]
  },
  {
   "cell_type": "code",
   "execution_count": 65,
   "metadata": {},
   "outputs": [],
   "source": [
    "def executar(matriz_entrada, matriz_objetivo):\n",
    "    inicio = time.time()\n",
    "    retorno, matriz_final = buscaEmProfundidade(matriz_entrada, matriz_objetivo, [])\n",
    "    fim = time.time()\n",
    "\n",
    "    print('------------------------------------------------------------------------------------')\n",
    "    print('Matriz de entrada: ')\n",
    "    print(matriz_entrada)\n",
    "    print('------------------------------------------------------------------------------------')\n",
    "    print('Matriz desejada: ')\n",
    "    print(matriz_objetivo)\n",
    "    print('------------------------------------------------------------------------------------')\n",
    "    print('Matriz final: ')\n",
    "    print(matriz_final)\n",
    "    print('------------------------------------------------------------------------------------')\n",
    "    \n",
    "    if retorno:\n",
    "        print('Foi possível encontrar a matriz desejada após ' + str(iteracao) + ' iterações.')\n",
    "    else:\n",
    "        print('Não foi possível encontrar a matriz desejada após ' + str(iteracao) + ' iterações.')\n",
    "\n",
    "    print('A execução da busca em profundidade foi feita em ' + str(fim - inicio) + ' segundos.')\n",
    "    print('------------------------------------------------------------------------------------')"
   ]
  },
  {
   "cell_type": "code",
   "execution_count": 66,
   "metadata": {
    "colab": {
     "base_uri": "https://localhost:8080/"
    },
    "id": "VvMEdXveUXkk",
    "outputId": "03b5d52d-331d-4f19-cf22-5e17f93bbe93"
   },
   "outputs": [
    {
     "name": "stdout",
     "output_type": "stream",
     "text": [
      "------------------------------------------------------------------------------------\n",
      "Matriz de entrada: \n",
      "[[1 2 3]\n",
      " [4 0 6]\n",
      " [7 5 8]]\n",
      "------------------------------------------------------------------------------------\n",
      "Matriz desejada: \n",
      "[[1 2 3]\n",
      " [4 5 6]\n",
      " [7 8 0]]\n",
      "------------------------------------------------------------------------------------\n",
      "Matriz final: \n",
      "[[1 2 3]\n",
      " [4 5 6]\n",
      " [7 8 0]]\n",
      "------------------------------------------------------------------------------------\n",
      "Foi possível encontrar a matriz desejada após 915 iterações.\n",
      "A execução da busca em profundidade foi feita em 6.854299783706665 segundos.\n",
      "------------------------------------------------------------------------------------\n",
      "------------------------------------------------------------------------------------\n",
      "Matriz de entrada: \n",
      "[[1 2 3]\n",
      " [4 5 6]\n",
      " [7 0 8]]\n",
      "------------------------------------------------------------------------------------\n",
      "Matriz desejada: \n",
      "[[1 2 3]\n",
      " [4 5 6]\n",
      " [7 8 0]]\n",
      "------------------------------------------------------------------------------------\n",
      "Matriz final: \n",
      "[[1 2 3]\n",
      " [4 5 6]\n",
      " [7 8 0]]\n",
      "------------------------------------------------------------------------------------\n",
      "Foi possível encontrar a matriz desejada após 1 iterações.\n",
      "A execução da busca em profundidade foi feita em 0.00010609626770019531 segundos.\n",
      "------------------------------------------------------------------------------------\n",
      "------------------------------------------------------------------------------------\n",
      "Matriz de entrada: \n",
      "[[0 2 3]\n",
      " [1 5 6]\n",
      " [7 4 8]]\n",
      "------------------------------------------------------------------------------------\n",
      "Matriz desejada: \n",
      "[[1 2 3]\n",
      " [4 5 6]\n",
      " [7 8 0]]\n",
      "------------------------------------------------------------------------------------\n",
      "Matriz final: \n",
      "[[7 4 1]\n",
      " [8 0 6]\n",
      " [3 2 5]]\n",
      "------------------------------------------------------------------------------------\n",
      "Não foi possível encontrar a matriz desejada após 2000 iterações.\n",
      "A execução da busca em profundidade foi feita em 35.63798975944519 segundos.\n",
      "------------------------------------------------------------------------------------\n",
      "------------------------------------------------------------------------------------\n",
      "Matriz de entrada: \n",
      "[[6 1 5]\n",
      " [8 2 3]\n",
      " [0 4 7]]\n",
      "------------------------------------------------------------------------------------\n",
      "Matriz desejada: \n",
      "[[1 2 3]\n",
      " [4 5 6]\n",
      " [7 8 0]]\n",
      "------------------------------------------------------------------------------------\n",
      "Matriz final: \n",
      "[[7 4 8]\n",
      " [1 6 0]\n",
      " [3 2 5]]\n",
      "------------------------------------------------------------------------------------\n",
      "Não foi possível encontrar a matriz desejada após 2000 iterações.\n",
      "A execução da busca em profundidade foi feita em 39.359046936035156 segundos.\n",
      "------------------------------------------------------------------------------------\n"
     ]
    }
   ],
   "source": [
    "matriz_objetivo = np.matrix('1 2 3; 4 5 6; 7 8 0')\n",
    "\n",
    "entradas = []\n",
    "entradas.append(np.matrix('1 2 3; 4 0 6; 7 5 8'))\n",
    "entradas.append(np.matrix('1 2 3; 4 5 6; 7 0 8'))\n",
    "entradas.append(np.matrix('0 2 3; 1 5 6; 7 4 8'))\n",
    "entradas.append(np.random.choice(range(9), size=(3, 3), replace=False)) # matriz aleatória\n",
    "\n",
    "for entrada in entradas:\n",
    "    iteracao = 0\n",
    "    executar(entrada, matriz_objetivo)"
   ]
  },
  {
   "cell_type": "code",
   "execution_count": null,
   "metadata": {},
   "outputs": [],
   "source": []
  }
 ],
 "metadata": {
  "colab": {
   "collapsed_sections": [],
   "name": "JogoDos8.ipynb",
   "provenance": []
  },
  "kernelspec": {
   "display_name": "Python 3",
   "language": "python",
   "name": "python3"
  },
  "language_info": {
   "codemirror_mode": {
    "name": "ipython",
    "version": 3
   },
   "file_extension": ".py",
   "mimetype": "text/x-python",
   "name": "python",
   "nbconvert_exporter": "python",
   "pygments_lexer": "ipython3",
   "version": "3.8.2"
  }
 },
 "nbformat": 4,
 "nbformat_minor": 1
}
