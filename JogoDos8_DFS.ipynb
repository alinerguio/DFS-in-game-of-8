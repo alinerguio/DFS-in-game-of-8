{
 "cells": [
  {
   "cell_type": "markdown",
   "metadata": {
    "id": "XBTis7SKGaEr"
   },
   "source": [
    "# Jogo dos 8\n",
    "### Método de busca não-informada: Busca em Profundidade"
   ]
  },
  {
   "cell_type": "code",
   "execution_count": 1,
   "metadata": {
    "id": "Zxuu8M7dUUp0"
   },
   "outputs": [],
   "source": [
    "import numpy as np\n",
    "import time\n",
    "import sys"
   ]
  },
  {
   "cell_type": "markdown",
   "metadata": {
    "id": "f7b2sMp3GaEx"
   },
   "source": [
    "### Metódo encontraEstadoAtual\n",
    "O método encontra as coordenadas do valor 0 na matriz passada por parâmetro.\n",
    "\n",
    "##### Parâmetros: \n",
    "    matriz: matriz numpy a ser procurada.\n",
    " \n",
    "##### Retorno: \n",
    "    bool: array com coordenadas do valor 0. "
   ]
  },
  {
   "cell_type": "code",
   "execution_count": 2,
   "metadata": {},
   "outputs": [],
   "source": [
    "def encontraEstadoAtual(matriz):\n",
    "    result = np.where(matriz == 0)\n",
    "    estado_atual = (result[0].item(0), result[1].item(0))\n",
    "    \n",
    "    return estado_atual"
   ]
  },
  {
   "cell_type": "markdown",
   "metadata": {},
   "source": [
    "### Metódo encontraSucessores\n",
    "Verifica as movimentações válidas do valor 0 na matriz - vertical, horizontal - e retorna os sucessores da matriz de entrada - uma matriz para cada possível movimentação.\n",
    "\n",
    "##### Parâmetros: \n",
    "    matriz: matriz numpy a ser encontrado seus sucessores.\n",
    "    \n",
    "    estado_atual: coordenadas do valor 0.\n",
    "\n",
    "##### Retorno: \n",
    "    sucessores: lista com uma matriz para cada possível movimentação do 0."
   ]
  },
  {
   "cell_type": "code",
   "execution_count": 3,
   "metadata": {},
   "outputs": [],
   "source": [
    "def encontraSucessores(matriz, estado_atual):\n",
    "    sucessores = []\n",
    "    direcoes = [[1, 1], [1, -1], [0, 1], [0, -1]]\n",
    "    \n",
    "    for direcao in direcoes:\n",
    "        matriz_sucessora = np.copy(matriz)\n",
    "        \n",
    "        if direcao[0] == 1: # movimentações na vertical\n",
    "            estado_trocado = (estado_atual[0], estado_atual[1] + direcao[1])\n",
    "        else: # movimentações na horizontal\n",
    "            estado_trocado = (estado_atual[0] + direcao[1], estado_atual[1])\n",
    "\n",
    "        if estado_trocado[direcao[0]] >= 0 and estado_trocado[direcao[0]] < 3: \n",
    "            matriz_sucessora[estado_atual] = matriz[estado_trocado]\n",
    "            matriz_sucessora[estado_trocado] = 0\n",
    "            sucessores.append(matriz_sucessora)\n",
    "            \n",
    "    return sucessores"
   ]
  },
  {
   "cell_type": "markdown",
   "metadata": {},
   "source": [
    "### Metódo verificaSeFoiVisitado\n",
    "Verifica se aquele estado da matriz - com os valores nas respectivas posições - já foi visitado.\n",
    "\n",
    "##### Parâmetros: \n",
    "    matriz: matriz numpy a ser verificada.\n",
    "    \n",
    "    estados_visitados: lista com matrizes visitadas.\n",
    "\n",
    "##### Retorno: \n",
    "    bool: True se já foi visitado, False se não foi."
   ]
  },
  {
   "cell_type": "code",
   "execution_count": 4,
   "metadata": {},
   "outputs": [],
   "source": [
    "def verificaSeFoiVisitado(matriz, estados_visitados):\n",
    "    for estado in estados_visitados:\n",
    "        if (matriz == estado).all():\n",
    "            return True\n",
    "        \n",
    "    return False"
   ]
  },
  {
   "cell_type": "markdown",
   "metadata": {},
   "source": [
    "### Metódo acharProximoSucessorNaoVisitado\n",
    "Verifica o próximo sucessor que não foi visitado - \"voltando\" na árvore. Essa função é usada quando todos sucessores do nó atual já foram visitados.\n",
    "\n",
    "##### Parâmetros: \n",
    "    estados_visitados: lista com todas matrizes já visitadas.\n",
    "    \n",
    "    estados_com_sucessores_nv: lista com todas matrizes com sucessores que ainda não foram verificados, e possívelmente podem ter sucessores não visitados.\n",
    "    \n",
    "    sucessores: sucessores do nó atual.\n",
    "    \n",
    "    index_atual: index na lista de sucessores que o nó atual está.\n",
    "\n",
    "##### Retorno: \n",
    "    sucessor: estado ainda não visitado. "
   ]
  },
  {
   "cell_type": "code",
   "execution_count": 5,
   "metadata": {},
   "outputs": [],
   "source": [
    "def acharProximoSucessorNaoVisitado(estados_visitados, estados_com_sucessores_nv, sucessores, index_atual):\n",
    "    while len(sucessores) > index_atual + 1:\n",
    "        ja_visitado = False\n",
    "        for estado in estados_visitados:\n",
    "            if (sucessores[index_atual + 1] == estado).all(): \n",
    "                ja_visitado = True\n",
    "        \n",
    "        if ja_visitado:\n",
    "            index_atual += 1\n",
    "        else:\n",
    "            return sucessores[index_atual + 1]\n",
    "    \n",
    "    estado = estados_com_sucessores_nv[-1]\n",
    "    estado_com_sucessores_nao_visitados = np.copy(estados_com_sucessores_nv[:-1])\n",
    "    \n",
    "    sucessores_estado = encontraSucessores(estado, encontraEstadoAtual(estado)) \n",
    "    return acharProximoSucessorNaoVisitado(estados_visitados, estado_com_sucessores_nao_visitados, sucessores_estado, 0)"
   ]
  },
  {
   "cell_type": "markdown",
   "metadata": {
    "id": "f7b2sMp3GaEx"
   },
   "source": [
    "### Metódo buscaEmProfundidade\n",
    "O método executa a busca em profundidade a partir de uma matriz inicial e as execuções de trocas de lugar do 0, para encontrar a matriz objetivo (números ordenados de 1 a 8 e o 0 na posição (3, 3)).\n",
    "\n",
    "##### Parâmetros: \n",
    "    matriz: array numpy que deve ser iterado - busca em seus sucessores - se não for igual ao desejado.\n",
    "    \n",
    "    matriz_objetivo: array numpy com array desejado.\n",
    "    \n",
    "    estados_visitados: estados que já foram visitados na busca.\n",
    "\n",
    "##### Retorno: \n",
    "    bool: True se a matriz foi encontrada - atingiu a objetiva com as trocas de lugar. False se atingiu o máximo de iterações.\n",
    "    \n",
    "    matriz: matriz em seu estado final.\n",
    "    \n"
   ]
  },
  {
   "cell_type": "code",
   "execution_count": 10,
   "metadata": {},
   "outputs": [],
   "source": [
    "def buscaEmProfundidade(matriz, matriz_objetivo, estados_visitados): \n",
    "    global iteracao\n",
    "    if (matriz == matriz_objetivo).all():\n",
    "        return True, matriz\n",
    "    elif iteracao == 2000: \n",
    "        return False, matriz\n",
    "    else:\n",
    "        sucessores = encontraSucessores(matriz, encontraEstadoAtual(matriz))\n",
    "        for sucessor in sucessores: \n",
    "            if iteracao <= 2000:\n",
    "                if not verificaSeFoiVisitado(sucessor, estados_visitados):\n",
    "                    iteracao += 1\n",
    "                    return buscaEmProfundidade(sucessor, matriz_objetivo, estados_visitados + [sucessor])\n",
    "                else:\n",
    "                    sucessor_valido = acharProximoSucessorNaoVisitado(estados_visitados, estados_visitados, sucessores, sucessores.index(sucessor))\n",
    "                    iteracao += 1\n",
    "                    return buscaEmProfundidade(sucessor_valido, matriz_objetivo, estados_visitados + [sucessor_valido])\n",
    "            "
   ]
  },
  {
   "cell_type": "markdown",
   "metadata": {},
   "source": [
    "### Metódo escreverArquivo\n",
    "Escreve um relatório para comparação com o outro método em arquivo txt.\n",
    "\n",
    "##### Parâmetros: \n",
    "    matriz_inicial: matriz de entrada.\n",
    "    \n",
    "    tempo: segundos para executar a busca com a matriz_inicial.\n",
    "    \n",
    "    iteracoes: iterações para executar a busca com a matriz_inicial.\n",
    "    \n",
    "    atingiu_objetivo: booleano que representa se a busca na matriz_inicial chegou ao estado final desejado.\n",
    " \n",
    "##### Retorno: \n",
    "    nenhum. "
   ]
  },
  {
   "cell_type": "code",
   "execution_count": 19,
   "metadata": {},
   "outputs": [],
   "source": [
    "def escreverArquivo(matriz_inicial, tempo, iteracoes, atingiu_objetivo):\n",
    "    arquivo = open('resultados_DFS.txt', 'a')\n",
    "    \n",
    "    arquivo.write(str(atingiu_objetivo))\n",
    "    arquivo.write(', ')\n",
    "    \n",
    "    arquivo.write(str(tempo))\n",
    "    arquivo.write(', ')\n",
    "    \n",
    "    arquivo.write(str(iteracoes))\n",
    "    arquivo.write(';\\n')\n",
    "                  \n",
    "    arquivo.write(str(matriz_inicial))\n",
    "    arquivo.write(';\\n')"
   ]
  },
  {
   "cell_type": "markdown",
   "metadata": {},
   "source": [
    "### Metódo executar\n",
    "Executa a função da busca e imprime o relatório.\n",
    "\n",
    "##### Parâmetros: \n",
    "    matriz_entrada: matriz de entrada para buscar seu estado igual à matriz_objetivo.\n",
    "    \n",
    "    matriz_objetivo: matriz para comparação, matriz_entrada deve ser igual à ela - idealmente.\n",
    " \n",
    "##### Retorno: \n",
    "    nenhum. "
   ]
  },
  {
   "cell_type": "code",
   "execution_count": 20,
   "metadata": {},
   "outputs": [],
   "source": [
    "def executar(matriz_entrada, matriz_objetivo):\n",
    "    inicio = time.time()\n",
    "    retorno, matriz_final = buscaEmProfundidade(matriz_entrada, matriz_objetivo, [])\n",
    "    fim = time.time()\n",
    "    \n",
    "    escreverArquivo(matriz_entrada, str(fim - inicio), str(iteracao), retorno)\n",
    "    \n",
    "    print('------------------------------------------------------------------------------------')\n",
    "    print('Matriz de entrada: ')\n",
    "    print(matriz_entrada)\n",
    "    print('------------------------------------------------------------------------------------')\n",
    "    print('Matriz desejada: ')\n",
    "    print(matriz_objetivo)\n",
    "    print('------------------------------------------------------------------------------------')\n",
    "    print('Matriz final: ')\n",
    "    print(matriz_final)\n",
    "    print('------------------------------------------------------------------------------------')\n",
    "    \n",
    "    if retorno:\n",
    "        print('Foi possível encontrar a matriz desejada após ' + str(iteracao) + ' iterações.')\n",
    "    else:\n",
    "        print('Não foi possível encontrar a matriz desejada após ' + str(iteracao) + ' iterações.')\n",
    "\n",
    "    print('A execução da busca em profundidade foi feita em ' + str(fim - inicio) + ' segundos.')\n",
    "    print('------------------------------------------------------------------------------------')"
   ]
  },
  {
   "cell_type": "markdown",
   "metadata": {},
   "source": [
    "# Execução\n",
    "\n",
    "Possui quatro matrizes entradas - duas que com a busca em profundidade limitada à iterações, uma que não chega ao objetivo e uma aleatória. \n",
    "\n",
    "Relatório final é gerado abaixo."
   ]
  },
  {
   "cell_type": "code",
   "execution_count": 21,
   "metadata": {
    "colab": {
     "base_uri": "https://localhost:8080/"
    },
    "id": "VvMEdXveUXkk",
    "outputId": "03b5d52d-331d-4f19-cf22-5e17f93bbe93"
   },
   "outputs": [
    {
     "name": "stdout",
     "output_type": "stream",
     "text": [
      "------------------------------------------------------------------------------------\n",
      "Matriz de entrada: \n",
      "[[1 2 3]\n",
      " [4 0 6]\n",
      " [7 5 8]]\n",
      "------------------------------------------------------------------------------------\n",
      "Matriz desejada: \n",
      "[[1 2 3]\n",
      " [4 5 6]\n",
      " [7 8 0]]\n",
      "------------------------------------------------------------------------------------\n",
      "Matriz final: \n",
      "[[1 2 3]\n",
      " [4 5 6]\n",
      " [7 8 0]]\n",
      "------------------------------------------------------------------------------------\n",
      "Foi possível encontrar a matriz desejada após 915 iterações.\n",
      "A execução da busca em profundidade foi feita em 4.99496817589 segundos.\n",
      "------------------------------------------------------------------------------------\n",
      "------------------------------------------------------------------------------------\n",
      "Matriz de entrada: \n",
      "[[1 2 3]\n",
      " [4 5 6]\n",
      " [7 0 8]]\n",
      "------------------------------------------------------------------------------------\n",
      "Matriz desejada: \n",
      "[[1 2 3]\n",
      " [4 5 6]\n",
      " [7 8 0]]\n",
      "------------------------------------------------------------------------------------\n",
      "Matriz final: \n",
      "[[1 2 3]\n",
      " [4 5 6]\n",
      " [7 8 0]]\n",
      "------------------------------------------------------------------------------------\n",
      "Foi possível encontrar a matriz desejada após 1 iterações.\n",
      "A execução da busca em profundidade foi feita em 0.000175952911377 segundos.\n",
      "------------------------------------------------------------------------------------\n",
      "------------------------------------------------------------------------------------\n",
      "Matriz de entrada: \n",
      "[[0 2 3]\n",
      " [1 5 6]\n",
      " [7 4 8]]\n",
      "------------------------------------------------------------------------------------\n",
      "Matriz desejada: \n",
      "[[1 2 3]\n",
      " [4 5 6]\n",
      " [7 8 0]]\n",
      "------------------------------------------------------------------------------------\n",
      "Matriz final: \n",
      "[[7 4 1]\n",
      " [8 0 6]\n",
      " [3 2 5]]\n",
      "------------------------------------------------------------------------------------\n",
      "Não foi possível encontrar a matriz desejada após 2000 iterações.\n",
      "A execução da busca em profundidade foi feita em 29.7793581486 segundos.\n",
      "------------------------------------------------------------------------------------\n",
      "------------------------------------------------------------------------------------\n",
      "Matriz de entrada: \n",
      "[[3 7 1]\n",
      " [8 4 2]\n",
      " [5 6 0]]\n",
      "------------------------------------------------------------------------------------\n",
      "Matriz desejada: \n",
      "[[1 2 3]\n",
      " [4 5 6]\n",
      " [7 8 0]]\n",
      "------------------------------------------------------------------------------------\n",
      "Matriz final: \n",
      "[[6 5 8]\n",
      " [7 3 0]\n",
      " [2 4 1]]\n",
      "------------------------------------------------------------------------------------\n",
      "Não foi possível encontrar a matriz desejada após 2000 iterações.\n",
      "A execução da busca em profundidade foi feita em 40.1048388481 segundos.\n",
      "------------------------------------------------------------------------------------\n"
     ]
    }
   ],
   "source": [
    "sys.setrecursionlimit(10 ** 6) # evita parada por recursão\n",
    "\n",
    "matriz_objetivo = np.matrix('1 2 3; 4 5 6; 7 8 0')\n",
    "\n",
    "entradas = []\n",
    "entradas.append(np.matrix('1 2 3; 4 0 6; 7 5 8'))\n",
    "entradas.append(np.matrix('1 2 3; 4 5 6; 7 0 8'))\n",
    "entradas.append(np.matrix('0 2 3; 1 5 6; 7 4 8'))\n",
    "entradas.append(np.random.choice(range(9), size=(3, 3), replace=False)) # matriz aleatória\n",
    "\n",
    "for entrada in entradas:\n",
    "    iteracao = 0\n",
    "    executar(entrada, matriz_objetivo)"
   ]
  }
 ],
 "metadata": {
  "colab": {
   "collapsed_sections": [],
   "name": "JogoDos8.ipynb",
   "provenance": []
  },
  "kernelspec": {
   "display_name": "Python 2",
   "language": "python",
   "name": "python2"
  },
  "language_info": {
   "codemirror_mode": {
    "name": "ipython",
    "version": 2
   },
   "file_extension": ".py",
   "mimetype": "text/x-python",
   "name": "python",
   "nbconvert_exporter": "python",
   "pygments_lexer": "ipython2",
   "version": "2.7.16"
  }
 },
 "nbformat": 4,
 "nbformat_minor": 1
}
