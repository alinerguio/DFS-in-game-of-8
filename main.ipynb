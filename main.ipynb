{
 "cells": [
  {
   "cell_type": "code",
   "execution_count": 1,
   "metadata": {
    "colab": {
     "base_uri": "https://localhost:8080/",
     "height": 351
    },
    "id": "fvwNXy96zvVV",
    "outputId": "6997cd8a-b780-42ec-b9ff-72acb7665646"
   },
   "outputs": [],
   "source": [
    "from ipynb.fs.full.notebookDFS import *\n",
    "from ipynb.fs.full.notebookGulosa import *\n",
    "import numpy as np\n",
    "import os"
   ]
  },
  {
   "cell_type": "markdown",
   "metadata": {
    "id": "S-sI8G5szvVW"
   },
   "source": [
    "### Metódo limparOutputs\n",
    "O método encontra as coordenadas do valor 0 na matriz passada por parâmetro."
   ]
  },
  {
   "cell_type": "code",
   "execution_count": 2,
   "metadata": {
    "id": "acWKnd4wzvVW"
   },
   "outputs": [],
   "source": [
    "def limparOutputs():\n",
    "    if os.path.exists('./resultados_DFS.txt'):\n",
    "        os.remove('./resultados_DFS.txt')\n",
    "    \n",
    "    if os.path.exists('./resultados_Gulosa.txt'):\n",
    "        os.remove('./resultados_Gulosa.txt')\n",
    "    \n",
    "    print(\"Outputs limpos com sucesso!\")\n",
    "    print(\"-----------------------------------------------------------------------------------\")"
   ]
  },
  {
   "cell_type": "markdown",
   "metadata": {
    "id": "aK4lpsyHzvVW"
   },
   "source": [
    "### Metódo dividirLista\n",
    "Manipula os dados dos arquivos textos para análise."
   ]
  },
  {
   "cell_type": "code",
   "execution_count": 3,
   "metadata": {
    "id": "kn814vIqzvVW"
   },
   "outputs": [],
   "source": [
    "def dividirLista(resultado):\n",
    "    lista = []\n",
    "    for linha in resultado:\n",
    "        lista.append(linha.split(';'))\n",
    "    return lista"
   ]
  },
  {
   "cell_type": "markdown",
   "metadata": {
    "id": "fODs9G3AzvVW"
   },
   "source": [
    "### Metódo menorTempo\n",
    "O método verifica o método de busca com o menor tempo para determinada matriz."
   ]
  },
  {
   "cell_type": "code",
   "execution_count": 4,
   "metadata": {
    "id": "HPzoIOlRzvVW"
   },
   "outputs": [],
   "source": [
    "def menorTempo(opcoes):\n",
    "    menor = []\n",
    "    menor.append(opcoes[0])\n",
    "    for op in opcoes:\n",
    "        if menor[0][2] == op[2] and menor[0][0] != op[0]:\n",
    "            menor.append(op)\n",
    "        elif menor[0][2] > op[2]:\n",
    "            menor = []\n",
    "            menor.append(op)\n",
    "    \n",
    "    return menor"
   ]
  },
  {
   "cell_type": "markdown",
   "metadata": {
    "id": "e9IvkenuzvVW"
   },
   "source": [
    "### Metódo menorIteracao\n",
    "O método verifica o método de busca com o menor número de iterações para determinada matriz."
   ]
  },
  {
   "cell_type": "code",
   "execution_count": 5,
   "metadata": {
    "id": "KNT8VEe4zvVX"
   },
   "outputs": [],
   "source": [
    "def menorIteracao(opcoes):\n",
    "    menor = []\n",
    "    menor.append(opcoes[0])\n",
    "    for op in opcoes:\n",
    "        if menor[0][3] == op[3] and menor[0][0] != op[0]:\n",
    "            menor.append(op)\n",
    "        elif menor[0][3] > op[3]:\n",
    "            menor = []\n",
    "            menor.append(op)\n",
    "    \n",
    "    return menor"
   ]
  },
  {
   "cell_type": "markdown",
   "metadata": {
    "id": "lwK1ozGMzvVX"
   },
   "source": [
    "### Metódo metodosExistentes\n",
    "O método retorna o nome do método de busca a partir do identificador."
   ]
  },
  {
   "cell_type": "code",
   "execution_count": 6,
   "metadata": {
    "id": "BvauTdkpzvVX"
   },
   "outputs": [],
   "source": [
    "def metodosExistentes(opcoes):\n",
    "    metodos = []\n",
    "    for op in opcoes:\n",
    "        identificador = int(op[0])\n",
    "        if identificador == 0:\n",
    "            metodos.append('Busca em profundidade')\n",
    "        elif identificador == 1:\n",
    "            metodos.append('Heurística Gulosa com critério Distância Euclidiana')\n",
    "        elif identificador == 2:\n",
    "            metodos.append('Heurística Gulosa com critério Pontos Diferentes')\n",
    "        elif identificador == 3:\n",
    "            metodos.append('Heurística Gulosa com critério Manhattan Distance')\n",
    "\n",
    "    return metodos"
   ]
  },
  {
   "cell_type": "markdown",
   "metadata": {
    "id": "R4f-wJfJzvVX"
   },
   "source": [
    "### Metódo foiPossivelResolucao\n",
    "O método verifica os métodos de busca que encontraram a matriz objetivo (com até 2000 iterações)."
   ]
  },
  {
   "cell_type": "code",
   "execution_count": 7,
   "metadata": {
    "id": "ov6YxpO1zvVX"
   },
   "outputs": [],
   "source": [
    "def foiPossivelResolucao(opcoes):\n",
    "    possivel = []\n",
    "    for op in opcoes:\n",
    "        if op[1] == 'True':\n",
    "            possivel.append(op)\n",
    "            \n",
    "    return possivel"
   ]
  },
  {
   "cell_type": "markdown",
   "metadata": {
    "id": "7p1Z-sqIzvVX"
   },
   "source": [
    "### Metódo compararMetodos\n",
    "O método lê os arquivos com os resultados das buscas e verifica os métodos de busca, mostrando o com menor tempo e menor número de iterações."
   ]
  },
  {
   "cell_type": "code",
   "execution_count": 8,
   "metadata": {
    "id": "7J8qV9gIzvVX"
   },
   "outputs": [],
   "source": [
    "def compararMetodos():\n",
    "    with open('resultados_DFS.txt') as f1, open('resultados_Gulosa.txt') as f2:\n",
    "        resultadosDFS = f1.read().split('*') \n",
    "        resultadosGulosa = f2.read().split('*')\n",
    "\n",
    "    resultadosGulosa = dividirLista(resultadosGulosa)\n",
    "    resultadosDFS = dividirLista(resultadosDFS)\n",
    "\n",
    "    for i in range(len(resultadosDFS) - 1):\n",
    "        num = 2*i\n",
    "        print(\"-----------------------------------------------------------------------------------\")\n",
    "        print(\"Matriz inicial: \")\n",
    "        print(resultadosDFS[i][4])\n",
    "        possivelResolucao = foiPossivelResolucao([resultadosDFS[i], resultadosGulosa[i + num], resultadosGulosa[i + num + 1], resultadosGulosa[i + num + 2]])\n",
    "\n",
    "        if len(possivelResolucao) > 0:\n",
    "            \n",
    "            tempo = menorTempo(possivelResolucao)\n",
    "            metodo = metodosExistentes(tempo)\n",
    "            print(\"\\nEm relação ao tempo, método(s) com o(s) menor(es): \" + tempo[0][2] + ' segundos')\n",
    "            for m in metodo: \n",
    "                print(m)\n",
    "                \n",
    "            iteracao = menorIteracao(possivelResolucao)\n",
    "            metodo = metodosExistentes(iteracao)\n",
    "            print(\"\\nEm relação ao número de iterações, método(s) com o(s) menor(es): \" + iteracao[0][3] + ' iterações')\n",
    "            for m in metodo: \n",
    "                print(m)\n",
    "                \n",
    "            print(\"-----------------------------------------------------------------------------------\")\n",
    "        else: \n",
    "            print(\"\\nNenhum dos métodos de busca chegaram à matriz objetivo com menos de 2000 iterações.\")\n",
    "            print(\"-----------------------------------------------------------------------------------\")"
   ]
  },
  {
   "cell_type": "markdown",
   "metadata": {
    "id": "fUgKOe_dzvVX"
   },
   "source": [
    "### Método executarMetodosBuscas\n",
    "\n",
    "O método executa as buscas informada (Heurística Gulosa - notebookGulosa) e não informada (Busca em Profundidade - notebookDFS)."
   ]
  },
  {
   "cell_type": "code",
   "execution_count": 9,
   "metadata": {
    "id": "SYX20r91zvVX"
   },
   "outputs": [],
   "source": [
    "def executarMetodosBuscas(entradas, matriz_objetivo):\n",
    "    for entrada in entradas:\n",
    "        iteracao = 0\n",
    "        executarDFS(entrada, matriz_objetivo) # executa busca em profundidade\n",
    "        executarGulosa(entrada, matriz_objetivo) # executa heurística gulosa\n",
    "    \n",
    "    print(\"Buscas com matriz objetivo executadas com sucesso!\")\n",
    "    print(matriz_objetivo)\n",
    "    print(\"-----------------------------------------------------------------------------------\")"
   ]
  },
  {
   "cell_type": "markdown",
   "metadata": {
    "id": "arkq4WbZzvVX"
   },
   "source": [
    "## Execução com entradas estáticas\n",
    "\n",
    "O método limpa os outputs, executa as buscas informada (Heurística Gulosa - notebookGulosa) e não informada (Busca em Profundidade - notebookDFS), e compara os resultados e identifica - para cada matriz - a(s) execução(ões) com menor tempo e menor número de iterações. "
   ]
  },
  {
   "cell_type": "code",
   "execution_count": 10,
   "metadata": {
    "colab": {
     "base_uri": "https://localhost:8080/",
     "height": 351
    },
    "id": "Bj5MAUQKzvVX",
    "outputId": "bd58a299-96bf-43a7-e9a3-68c8b0c04c79"
   },
   "outputs": [
    {
     "name": "stdout",
     "output_type": "stream",
     "text": [
      "Outputs limpos com sucesso!\n",
      "-----------------------------------------------------------------------------------\n",
      "Buscas com matriz objetivo executadas com sucesso!\n",
      "[[1 2 3]\n",
      " [8 0 4]\n",
      " [7 6 5]]\n",
      "-----------------------------------------------------------------------------------\n",
      "-----------------------------------------------------------------------------------\n",
      "Matriz inicial: \n",
      "[[2 0 3]\n",
      " [1 7 4]\n",
      " [6 8 5]]\n",
      "\n",
      "Em relação ao tempo, método(s) com o(s) menor(es): 0.0010101795196533203 segundos\n",
      "Heurística Gulosa com critério Pontos Diferentes\n",
      "\n",
      "Em relação ao número de iterações, método(s) com o(s) menor(es): 7 iterações\n",
      "Heurística Gulosa com critério Distância Euclidiana\n",
      "Heurística Gulosa com critério Pontos Diferentes\n",
      "Heurística Gulosa com critério Manhattan Distance\n",
      "-----------------------------------------------------------------------------------\n",
      "-----------------------------------------------------------------------------------\n",
      "Matriz inicial: \n",
      "[[0 1 2]\n",
      " [7 8 3]\n",
      " [6 5 4]]\n",
      "\n",
      "Em relação ao tempo, método(s) com o(s) menor(es): 0.0016009807586669922 segundos\n",
      "Heurística Gulosa com critério Pontos Diferentes\n",
      "\n",
      "Em relação ao número de iterações, método(s) com o(s) menor(es): 28 iterações\n",
      "Busca em profundidade\n",
      "-----------------------------------------------------------------------------------\n",
      "-----------------------------------------------------------------------------------\n",
      "Matriz inicial: \n",
      "[[2 8 3]\n",
      " [1 6 4]\n",
      " [7 0 5]]\n",
      "\n",
      "Em relação ao tempo, método(s) com o(s) menor(es): 0.0012710094451904297 segundos\n",
      "Heurística Gulosa com critério Pontos Diferentes\n",
      "\n",
      "Em relação ao número de iterações, método(s) com o(s) menor(es): 5 iterações\n",
      "Heurística Gulosa com critério Distância Euclidiana\n",
      "Heurística Gulosa com critério Manhattan Distance\n",
      "-----------------------------------------------------------------------------------\n",
      "-----------------------------------------------------------------------------------\n",
      "Matriz inicial: \n",
      "[[0 2 3]\n",
      " [1 5 6]\n",
      " [7 4 8]]\n",
      "\n",
      "Em relação ao tempo, método(s) com o(s) menor(es): 0.010685920715332031 segundos\n",
      "Heurística Gulosa com critério Manhattan Distance\n",
      "\n",
      "Em relação ao número de iterações, método(s) com o(s) menor(es): 16 iterações\n",
      "Heurística Gulosa com critério Manhattan Distance\n",
      "-----------------------------------------------------------------------------------\n",
      "Outputs limpos com sucesso!\n",
      "-----------------------------------------------------------------------------------\n",
      "Buscas com matriz objetivo executadas com sucesso!\n",
      "[[1 2 3]\n",
      " [4 5 6]\n",
      " [7 8 0]]\n",
      "-----------------------------------------------------------------------------------\n",
      "-----------------------------------------------------------------------------------\n",
      "Matriz inicial: \n",
      "[[1 2 3]\n",
      " [4 0 6]\n",
      " [7 5 8]]\n",
      "\n",
      "Em relação ao tempo, método(s) com o(s) menor(es): 0.00030684471130371094 segundos\n",
      "Heurística Gulosa com critério Pontos Diferentes\n",
      "\n",
      "Em relação ao número de iterações, método(s) com o(s) menor(es): 2 iterações\n",
      "Heurística Gulosa com critério Distância Euclidiana\n",
      "Heurística Gulosa com critério Pontos Diferentes\n",
      "Heurística Gulosa com critério Manhattan Distance\n",
      "-----------------------------------------------------------------------------------\n",
      "-----------------------------------------------------------------------------------\n",
      "Matriz inicial: \n",
      "[[1 2 3]\n",
      " [4 5 6]\n",
      " [7 0 8]]\n",
      "\n",
      "Em relação ao tempo, método(s) com o(s) menor(es): 0.0001442432403564453 segundos\n",
      "Busca em profundidade\n",
      "\n",
      "Em relação ao número de iterações, método(s) com o(s) menor(es): 1 iterações\n",
      "Busca em profundidade\n",
      "Heurística Gulosa com critério Distância Euclidiana\n",
      "Heurística Gulosa com critério Pontos Diferentes\n",
      "Heurística Gulosa com critério Manhattan Distance\n",
      "-----------------------------------------------------------------------------------\n",
      "-----------------------------------------------------------------------------------\n",
      "Matriz inicial: \n",
      "[[0 2 3]\n",
      " [1 4 5]\n",
      " [7 8 6]]\n",
      "\n",
      "Em relação ao tempo, método(s) com o(s) menor(es): 0.0005810260772705078 segundos\n",
      "Heurística Gulosa com critério Pontos Diferentes\n",
      "\n",
      "Em relação ao número de iterações, método(s) com o(s) menor(es): 4 iterações\n",
      "Heurística Gulosa com critério Distância Euclidiana\n",
      "Heurística Gulosa com critério Pontos Diferentes\n",
      "Heurística Gulosa com critério Manhattan Distance\n",
      "-----------------------------------------------------------------------------------\n",
      "-----------------------------------------------------------------------------------\n",
      "Matriz inicial: \n",
      "[[8 0 5]\n",
      " [6 1 4]\n",
      " [3 2 7]]\n",
      "\n",
      "Nenhum dos métodos de busca chegaram à matriz objetivo com menos de 2000 iterações.\n",
      "-----------------------------------------------------------------------------------\n"
     ]
    }
   ],
   "source": [
    "limparOutputs()\n",
    "\n",
    "matriz_objetivo_1 = np.matrix('1 2 3; 8 0 4; 7 6 5')\n",
    "entradas_1 = []\n",
    "entradas_1.append(np.matrix('2 0 3; 1 7 4; 6 8 5'))\n",
    "entradas_1.append(np.matrix('0 1 2; 7 8 3; 6 5 4'))\n",
    "entradas_1.append(np.matrix('2 8 3; 1 6 4; 7 0 5'))\n",
    "entradas_1.append(np.matrix('0 2 3; 1 5 6; 7 4 8'))\n",
    "\n",
    "executarMetodosBuscas(entradas_1, matriz_objetivo_1)\n",
    "\n",
    "compararMetodos()\n",
    "\n",
    "limparOutputs()\n",
    "\n",
    "matriz_objetivo_2 = np.matrix('1 2 3; 4 5 6; 7 8 0')\n",
    "entradas_2 = []\n",
    "entradas_2.append(np.matrix('1 2 3; 4 0 6; 7 5 8'))\n",
    "entradas_2.append(np.matrix('1 2 3; 4 5 6; 7 0 8'))\n",
    "entradas_2.append(np.matrix('0 2 3; 1 4 5; 7 8 6'))\n",
    "entradas_2.append(np.random.choice(range(9), size=(3, 3), replace=False)) \n",
    "\n",
    "executarMetodosBuscas(entradas_2, matriz_objetivo_2)\n",
    "\n",
    "compararMetodos()"
   ]
  },
  {
   "cell_type": "markdown",
   "metadata": {
    "id": "rHTcEFpJzvVZ"
   },
   "source": [
    "## Execução com matriz de entrada pelo usuário\n",
    "\n",
    "Usuário deve inserir, seguindo modelo do exemplo da inserção, a matriz 3x3 com números únicos de 0 a 8.\n"
   ]
  },
  {
   "cell_type": "code",
   "execution_count": null,
   "metadata": {
    "id": "F8P3pm_0zvVZ"
   },
   "outputs": [],
   "source": [
    "print('Exemplo de inserção: 1 2 3; 4 0 6; 7 5 8')\n",
    "print('Matriz resultante da inserção exemplo: ')\n",
    "print(np.matrix('1 2 3; 4 0 6; 7 5 8'))\n",
    "matriz = input('Insira números de 0 a 8 a serem inserios em uma matriz 3x3 como matriz de entrada, como o exemplo: ')\n",
    "entrada = []\n",
    "entrada.append(np.matrix(matriz))\n",
    "matriz_objetivo = np.matrix('1 2 3; 4 5 6; 7 8 0')\n",
    "    \n",
    "print(\"-----------------------------------------------------------------------------------\")\n",
    "print('Matriz objetivo: ')\n",
    "print(np.matrix('1 2 3; 4 5 6; 7 8 0'))\n",
    "print(\"-----------------------------------------------------------------------------------\")\n",
    "\n",
    "limparOutputs()\n",
    "executarMetodosBuscas(entrada, matriz_objetivo)\n",
    "compararMetodos()    "
   ]
  },
  {
   "cell_type": "code",
   "execution_count": null,
   "metadata": {
    "id": "EvBm8VynzvVZ"
   },
   "outputs": [],
   "source": []
  }
 ],
 "metadata": {
  "colab": {
   "collapsed_sections": [],
   "name": "main.ipynb",
   "provenance": []
  },
  "kernelspec": {
   "display_name": "Python 3",
   "language": "python",
   "name": "python3"
  },
  "language_info": {
   "codemirror_mode": {
    "name": "ipython",
    "version": 3
   },
   "file_extension": ".py",
   "mimetype": "text/x-python",
   "name": "python",
   "nbconvert_exporter": "python",
   "pygments_lexer": "ipython3",
   "version": "3.8.2"
  }
 },
 "nbformat": 4,
 "nbformat_minor": 1
}
